{
 "cells": [
  {
   "cell_type": "code",
   "execution_count": 1,
   "metadata": {},
   "outputs": [],
   "source": [
    "import requests"
   ]
  },
  {
   "cell_type": "code",
   "execution_count": 2,
   "metadata": {},
   "outputs": [],
   "source": [
    "url = 'http://localhost:9696/predict'\n",
    "\n",
    "customer_id = 'xyz-123'\n",
    "cust ={'emp_title': 'teacher',\n",
    " 'emp_length': 10.0,\n",
    " 'state': 'md',\n",
    " 'homeownership': 'mortgage',\n",
    " 'annual_income': 245000.0,\n",
    " 'verified_income': 'not_verified',\n",
    " 'debt_to_income': 4.56,\n",
    " 'delinq_2y': 0,\n",
    " 'months_since_last_delinq': 0.0,\n",
    " 'earliest_credit_line': 1993,\n",
    " 'inquiries_last_12m': 0,\n",
    " 'total_credit_lines': 22,\n",
    " 'open_credit_lines': 8,\n",
    " 'total_credit_limit': 632864,\n",
    " 'total_credit_utilized': 32455,\n",
    " 'num_collections_last_12m': 0,\n",
    " 'num_historical_failed_to_pay': 0,\n",
    " 'months_since_90d_late': 0.0,\n",
    " 'current_accounts_delinq': 0,\n",
    " 'total_collection_amount_ever': 0,\n",
    " 'current_installment_accounts': 3,\n",
    " 'accounts_opened_24m': 4,\n",
    " 'months_since_last_credit_inquiry': 19.0,\n",
    " 'num_satisfactory_accounts': 8,\n",
    " 'num_accounts_120d_past_due': 0.0,\n",
    " 'num_accounts_30d_past_due': 0,\n",
    " 'num_active_debit_accounts': 2,\n",
    " 'total_debit_limit': 42900,\n",
    " 'num_total_cc_accounts': 9,\n",
    " 'num_open_cc_accounts': 4,\n",
    " 'num_cc_carrying_balance': 2,\n",
    " 'num_mort_accounts': 7,\n",
    " 'account_never_delinq_percent': 100.0,\n",
    " 'tax_liens': 0,\n",
    " 'public_record_bankrupt': 0,\n",
    " 'loan_purpose': 'house',\n",
    " 'application_type': 'individual',\n",
    " 'loan_amount': 7200,\n",
    " 'term': 36}\n",
    "\n",
    "amount = cust['loan_amount']\n"
   ]
  },
  {
   "cell_type": "code",
   "execution_count": 3,
   "metadata": {},
   "outputs": [
    {
     "name": "stdout",
     "output_type": "stream",
     "text": [
      "The customer xyz-123 will receive a loan of 7200 with a rate 7.77%\n"
     ]
    }
   ],
   "source": [
    "response = requests.post(url, json=cust).json()\n",
    "print(f'The customer {customer_id} will receive a loan of {amount} with a rate {response}%')\n"
   ]
  }
 ],
 "metadata": {
  "kernelspec": {
   "display_name": "venv",
   "language": "python",
   "name": "python3"
  },
  "language_info": {
   "codemirror_mode": {
    "name": "ipython",
    "version": 3
   },
   "file_extension": ".py",
   "mimetype": "text/x-python",
   "name": "python",
   "nbconvert_exporter": "python",
   "pygments_lexer": "ipython3",
   "version": "3.10.9"
  }
 },
 "nbformat": 4,
 "nbformat_minor": 2
}
