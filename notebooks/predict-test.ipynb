{
 "cells": [
  {
   "cell_type": "code",
   "execution_count": 144,
   "metadata": {},
   "outputs": [],
   "source": [
    "import requests\n",
    "import pandas as pd\n",
    "import numpy as np"
   ]
  },
  {
   "cell_type": "code",
   "execution_count": 145,
   "metadata": {},
   "outputs": [
    {
     "data": {
      "text/plain": [
       "{'emp_title': 'engineer',\n",
       " 'emp_length': 6.0,\n",
       " 'state': 'fl',\n",
       " 'homeownership': 'mortgage',\n",
       " 'annual_income': 70480.0,\n",
       " 'verified_income': 'verified',\n",
       " 'debt_to_income': 37.08,\n",
       " 'delinq_2y': 0,\n",
       " 'months_since_last_delinq': 0.0,\n",
       " 'earliest_credit_line': 2006,\n",
       " 'inquiries_last_12m': 5,\n",
       " 'total_credit_lines': 21,\n",
       " 'open_credit_lines': 11,\n",
       " 'total_credit_limit': 341340,\n",
       " 'total_credit_utilized': 116079,\n",
       " 'num_collections_last_12m': 0,\n",
       " 'num_historical_failed_to_pay': 0,\n",
       " 'months_since_90d_late': 0.0,\n",
       " 'current_accounts_delinq': 0,\n",
       " 'total_collection_amount_ever': 0,\n",
       " 'current_installment_accounts': 4,\n",
       " 'accounts_opened_24m': 5,\n",
       " 'months_since_last_credit_inquiry': 5.0,\n",
       " 'num_satisfactory_accounts': 11,\n",
       " 'num_accounts_120d_past_due': 0.0,\n",
       " 'num_accounts_30d_past_due': 0,\n",
       " 'num_active_debit_accounts': 2,\n",
       " 'total_debit_limit': 30000,\n",
       " 'num_total_cc_accounts': 8,\n",
       " 'num_open_cc_accounts': 6,\n",
       " 'num_cc_carrying_balance': 5,\n",
       " 'num_mort_accounts': 1,\n",
       " 'account_never_delinq_percent': 100.0,\n",
       " 'tax_liens': 0,\n",
       " 'public_record_bankrupt': 0,\n",
       " 'loan_purpose': 'credit_card',\n",
       " 'application_type': 'joint',\n",
       " 'loan_amount': 34000,\n",
       " 'term': 60,\n",
       " 'interest_rate': 12.61}"
      ]
     },
     "execution_count": 145,
     "metadata": {},
     "output_type": "execute_result"
    }
   ],
   "source": [
    "# df_test = pd.read_parquet('../data/test.parquet')\n",
    "# sample = np.random.randint(0, len(df_test))\n",
    "# customer = df_test.iloc[sample]\n",
    "customer.to_csv('../data/customer.csv')\n",
    "cust = customer.to_dict()\n",
    "cust"
   ]
  },
  {
   "cell_type": "code",
   "execution_count": 146,
   "metadata": {},
   "outputs": [],
   "source": [
    "url = 'http://localhost:9696/predict'"
   ]
  },
  {
   "cell_type": "code",
   "execution_count": 147,
   "metadata": {},
   "outputs": [],
   "source": [
    "def rate_pred(customer_id,cust,url):\n",
    "    amount = cust['loan_amount']\n",
    "    response = requests.post(url, json=cust).json()\n",
    "    # print(response['rate'])\n",
    "    rate = round(response['rate'],2)\n",
    "    print(f'The customer {customer_id} will receive a loan of ${amount} with a rate {rate}%')\n"
   ]
  },
  {
   "cell_type": "code",
   "execution_count": 148,
   "metadata": {},
   "outputs": [
    {
     "name": "stdout",
     "output_type": "stream",
     "text": [
      "The customer xyz-123 will receive a loan of 34000 with a rate 15.83%\n"
     ]
    }
   ],
   "source": [
    "rate_pred('xyz-123',cust,url)"
   ]
  },
  {
   "cell_type": "code",
   "execution_count": null,
   "metadata": {},
   "outputs": [],
   "source": []
  }
 ],
 "metadata": {
  "kernelspec": {
   "display_name": "venv",
   "language": "python",
   "name": "python3"
  },
  "language_info": {
   "codemirror_mode": {
    "name": "ipython",
    "version": 3
   },
   "file_extension": ".py",
   "mimetype": "text/x-python",
   "name": "python",
   "nbconvert_exporter": "python",
   "pygments_lexer": "ipython3",
   "version": "3.10.9"
  }
 },
 "nbformat": 4,
 "nbformat_minor": 2
}
